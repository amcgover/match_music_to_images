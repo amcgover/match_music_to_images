{
 "cells": [
  {
   "cell_type": "code",
   "execution_count": null,
   "metadata": {},
   "outputs": [],
   "source": [
    "\"\"\"\n",
    "Copyright 2021 Aonghus McGovern\n",
    "\n",
    "This file is part of Music_Image_Matcher_Notebooks_And_Writeup.\n",
    "\n",
    "Music_Image_Matcher_Notebooks_And_Writeup is free software: you can redistribute it and/or modify it under the terms of the \n",
    "GNU General Public License as published by the Free Software Foundation, either version 3 of the License, or (at your option) \n",
    "any later version.\n",
    "\n",
    "Music_Image_Matcher_Notebooks_And_Writeup is distributed in the hope that it will be useful, but WITHOUT ANY WARRANTY; \n",
    "without even the implied warranty of MERCHANTABILITY or FITNESS FOR A PARTICULAR PURPOSE.  See the GNU General Public License \n",
    "for more details.\n",
    "\n",
    "You should have received a copy of the GNU General Public License along with Music_Image_Matcher_Notebooks_And_Writeup.  \n",
    "If not, see <https://www.gnu.org/licenses/>.\n",
    "\"\"\""
   ]
  },
  {
   "cell_type": "code",
   "execution_count": 1,
   "metadata": {},
   "outputs": [],
   "source": [
    "import ast\n",
    "import fileinput\n",
    "import operator"
   ]
  },
  {
   "cell_type": "code",
   "execution_count": 4,
   "metadata": {},
   "outputs": [
    {
     "name": "stdout",
     "output_type": "stream",
     "text": [
      "Black\n",
      "East Asian\n",
      "Indian\n",
      "Latino_Hispanic\n",
      "Middle Eastern\n",
      "Southeast Asian\n",
      "White\n"
     ]
    }
   ],
   "source": [
    "# Loop through the top 10 matches for each ethnicity to count the number of times an image was matched\n",
    "# to an ethnicity\n",
    "ethnicities = ['Black', 'East Asian', 'Indian', 'Latino_Hispanic', 'Middle Eastern', 'Southeast Asian',\n",
    "                   'White']\n",
    "fileinput.close()\n",
    "for ethnicity in ethnicities:\n",
    "    print(ethnicity)\n",
    "    # Create a dictionary to store the images and their counts\n",
    "    test_image_counts = dict()\n",
    "    # Iterate through the top 10 file for the ethnicity\n",
    "    for line in fileinput.input('%s_top_10.txt' % ethnicity):\n",
    "        # Load the top 10 matches for the face image\n",
    "        # Iterate through the 10 matches and update the test_image_counts dictionary\n",
    "        for t in ast.literal_eval(line.split('\\t')[1]):\n",
    "            if t in test_image_counts:\n",
    "                test_image_counts[t] += 1\n",
    "            else:\n",
    "                test_image_counts[t] = 1\n",
    "                \n",
    "    # We want to represent the number of matches as percentages. First we get the total number of matches\n",
    "    total = sum(test_image_counts.values())\n",
    "    # Write the matched images in order of their match percentage, highest first\n",
    "    with open('%s_image_counts.txt' % ethnicity, 'w') as outfile:\n",
    "        for i in sorted(test_image_counts.items(), key=operator.itemgetter(1), reverse=True):\n",
    "            outfile.write('%s\\t%s\\t%s\\n' % (i[0],i[1],i[1]/total))\n",
    "    "
   ]
  },
  {
   "cell_type": "code",
   "execution_count": null,
   "metadata": {},
   "outputs": [],
   "source": []
  }
 ],
 "metadata": {
  "kernelspec": {
   "display_name": "Python 3",
   "language": "python",
   "name": "python3"
  },
  "language_info": {
   "codemirror_mode": {
    "name": "ipython",
    "version": 3
   },
   "file_extension": ".py",
   "mimetype": "text/x-python",
   "name": "python",
   "nbconvert_exporter": "python",
   "pygments_lexer": "ipython3",
   "version": "3.7.6"
  }
 },
 "nbformat": 4,
 "nbformat_minor": 4
}
